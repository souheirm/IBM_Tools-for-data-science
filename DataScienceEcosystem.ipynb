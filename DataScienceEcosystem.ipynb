{
 "cells": [
  {
   "cell_type": "markdown",
   "id": "c1db567a-ad42-48e4-8e02-5f0b2f976b9a",
   "metadata": {},
   "source": [
    "# Data Science Tools and Ecosystem"
   ]
  },
  {
   "cell_type": "markdown",
   "id": "41e17405-b55f-45fd-96aa-680e39fdb8ed",
   "metadata": {},
   "source": [
    "In this notebook, Data Science Tools and Ecosystem are summarized."
   ]
  },
  {
   "cell_type": "markdown",
   "id": "db715bef-e0a2-48a2-bc65-d24852ba2e8b",
   "metadata": {},
   "source": [
    "Some of the popular languages that Data Scientists use are:  \n",
    "1. Python\n",
    "2. R\n",
    "3. Julia\n",
    "4. Java\n",
    "5. Javascript"
   ]
  },
  {
   "cell_type": "markdown",
   "id": "4a093ffe-8a98-4f16-8817-e05328df5022",
   "metadata": {},
   "source": [
    "Some of the commonly used libraries used by Data Scientists include:  \n",
    "1. NumPy\n",
    "2. Mathplotlib\n",
    "3. Keras\n",
    "4. Pandas\n",
    "5. SciKit-Learn\n",
    "6. SciPy\n",
    "7. TensorFlow"
   ]
  },
  {
   "cell_type": "markdown",
   "id": "0f39800e-8295-44fd-b047-c4cc4393fdfc",
   "metadata": {},
   "source": [
    "Data Science Tools  \n",
    "| Data Science Tools |\n",
    "| --- |\n",
    "| VS Code |\n",
    "| JupyterLab |\n",
    "| GitLab |"
   ]
  },
  {
   "cell_type": "markdown",
   "id": "b5718172-fcc5-4bd7-8786-ede3a3aad1e5",
   "metadata": {},
   "source": [
    "### Below are a few examples of evaluating arithmetic expressions in Python"
   ]
  },
  {
   "cell_type": "code",
   "execution_count": 1,
   "id": "3fcb1418-a60c-4a5c-8549-c236540da6e1",
   "metadata": {
    "tags": []
   },
   "outputs": [
    {
     "data": {
      "text/plain": [
       "17"
      ]
     },
     "execution_count": 1,
     "metadata": {},
     "output_type": "execute_result"
    }
   ],
   "source": [
    "(3*4)+5"
   ]
  },
  {
   "cell_type": "code",
   "execution_count": 2,
   "id": "a9f296d5-a116-47e2-bac3-dc5d7b97e8f9",
   "metadata": {
    "tags": []
   },
   "outputs": [
    {
     "data": {
      "text/plain": [
       "3.3333333333333335"
      ]
     },
     "execution_count": 2,
     "metadata": {},
     "output_type": "execute_result"
    }
   ],
   "source": [
    "# This will convert 200 minutes to hours by diving by 60\n",
    "200 / 60"
   ]
  },
  {
   "cell_type": "markdown",
   "id": "c44022d7-7c2e-48f4-900a-1bf64f843284",
   "metadata": {},
   "source": [
    "**Objectives:**  \n",
    "- List popular languages for Data Science\n",
    "- List commonly used libraries by Data Scientists\n",
    "- List some Data Science Tools\n",
    "- Evaluating arithmetic expressions in Python"
   ]
  },
  {
   "cell_type": "markdown",
   "id": "1aaffe00-7c46-4d7d-b60d-f9954ca3bda0",
   "metadata": {},
   "source": [
    "## Author  \n",
    "Souheir Mouchawrab"
   ]
  },
  {
   "cell_type": "code",
   "execution_count": null,
   "id": "164189bc-42b9-4580-900b-17592c72c874",
   "metadata": {},
   "outputs": [],
   "source": []
  }
 ],
 "metadata": {
  "kernelspec": {
   "display_name": "Python 3 (ipykernel)",
   "language": "python",
   "name": "python3"
  },
  "language_info": {
   "codemirror_mode": {
    "name": "ipython",
    "version": 3
   },
   "file_extension": ".py",
   "mimetype": "text/x-python",
   "name": "python",
   "nbconvert_exporter": "python",
   "pygments_lexer": "ipython3",
   "version": "3.11.3"
  }
 },
 "nbformat": 4,
 "nbformat_minor": 5
}
